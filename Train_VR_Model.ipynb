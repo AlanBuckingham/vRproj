{
  "nbformat": 4,
  "nbformat_minor": 0,
  "metadata": {
    "colab": {
      "provenance": []
    },
    "kernelspec": {
      "name": "python3",
      "display_name": "Python 3"
    },
    "language_info": {
      "name": "python"
    }
  },
  "cells": [
    {
      "cell_type": "code",
      "execution_count": null,
      "metadata": {
        "colab": {
          "base_uri": "https://localhost:8080/"
        },
        "id": "GYPde1vNqZiz",
        "outputId": "fd2dee6c-65bb-4cd1-a2ff-e6cd2225255c"
      },
      "outputs": [
        {
          "output_type": "stream",
          "name": "stdout",
          "text": [
            "Mounted at /content/drive\n"
          ]
        }
      ],
      "source": [
        "# Load the Drive helper and mount\n",
        "from google.colab import drive\n",
        "drive.mount('/content/drive')"
      ]
    },
    {
      "cell_type": "code",
      "source": [
        "import os\n",
        "import pandas as pd\n",
        "# Specify the directory where your JSON files are stored\n",
        "directory_path = 'drive/MyDrive/VR Model Dataset/Alan'\n",
        "\n",
        "# List to hold DataFrames\n",
        "dataframes_list = []\n",
        "\n",
        "# Loop through all json files in the specified directory\n",
        "for file_name in os.listdir(directory_path):\n",
        "    if file_name.endswith('.json'):\n",
        "        file_path = os.path.join(directory_path, file_name)\n",
        "        # Read the JSON file and append the DataFrame to the list\n",
        "        df = pd.read_json(file_path)\n",
        "        for i in range(len(df)):\n",
        "          df['ft_' + df['furnitureCounts'][i]['furnitureType']] = df['furnitureCounts'][i]['count']\n",
        "        df.drop(columns=['furnitureCounts'], inplace=True)\n",
        "        df.drop(df.index[1:], inplace=True)\n",
        "        dataframes_list.append(df)\n",
        "\n",
        "# Concatenate all DataFrames into one DataFrame\n",
        "alan_good_df = pd.concat(dataframes_list, ignore_index=True)"
      ],
      "metadata": {
        "id": "mZsiM37VradA"
      },
      "execution_count": null,
      "outputs": []
    },
    {
      "cell_type": "code",
      "source": [
        "import os\n",
        "import pandas as pd\n",
        "# Specify the directory where your JSON files are stored\n",
        "directory_path = 'drive/MyDrive/VR Model Dataset/Shawn'\n",
        "\n",
        "# List to hold DataFrames\n",
        "dataframes_list = []\n",
        "\n",
        "# Loop through all json files in the specified directory\n",
        "for file_name in os.listdir(directory_path):\n",
        "    if file_name.endswith('.json'):\n",
        "        file_path = os.path.join(directory_path, file_name)\n",
        "        # Read the JSON file and append the DataFrame to the list\n",
        "        df = pd.read_json(file_path)\n",
        "        for i in range(len(df)):\n",
        "          df['ft_' + df['furnitureCounts'][i]['furnitureType']] = df['furnitureCounts'][i]['count']\n",
        "        df.drop(columns=['furnitureCounts'], inplace=True)\n",
        "        df.drop(df.index[1:], inplace=True)\n",
        "        dataframes_list.append(df)\n",
        "\n",
        "# Concatenate all DataFrames into one DataFrame\n",
        "shawn_good_df = pd.concat(dataframes_list, ignore_index=True)"
      ],
      "metadata": {
        "id": "EGVCTTjqxaeG"
      },
      "execution_count": null,
      "outputs": []
    },
    {
      "cell_type": "code",
      "source": [
        "len(shawn_good_df)"
      ],
      "metadata": {
        "colab": {
          "base_uri": "https://localhost:8080/"
        },
        "id": "U7S9UU3Tz5f9",
        "outputId": "2cf4fe14-ef56-46fe-9b83-36bd04fbcdc4"
      },
      "execution_count": null,
      "outputs": [
        {
          "output_type": "execute_result",
          "data": {
            "text/plain": [
              "13"
            ]
          },
          "metadata": {},
          "execution_count": 18
        }
      ]
    },
    {
      "cell_type": "code",
      "source": [
        "alan_good_df['minDistance'] = 1\n",
        "alan_good_df['result'] = 1\n",
        "shawn_good_df['minDistance'] = 1\n",
        "shawn_good_df['result'] = 1"
      ],
      "metadata": {
        "id": "TveSfajOwZTu"
      },
      "execution_count": null,
      "outputs": []
    },
    {
      "cell_type": "code",
      "source": [
        "len(shawn_good_df)"
      ],
      "metadata": {
        "colab": {
          "base_uri": "https://localhost:8080/"
        },
        "id": "1IJJiCDNz-H3",
        "outputId": "c3b0fd90-a17d-4f83-cba1-e3141610e0fe"
      },
      "execution_count": null,
      "outputs": [
        {
          "output_type": "execute_result",
          "data": {
            "text/plain": [
              "13"
            ]
          },
          "metadata": {},
          "execution_count": 40
        }
      ]
    },
    {
      "cell_type": "code",
      "source": [
        "alan_bad_df = alan_good_df.copy(deep=True)\n",
        "alan_bad_df['minDistance'] = 0\n",
        "alan_bad_df['result'] = 0\n",
        "shawn_bad_df = shawn_good_df.copy(deep=True)\n",
        "shawn_bad_df['minDistance'] = 0\n",
        "shawn_bad_df['result'] = 0"
      ],
      "metadata": {
        "id": "XxWa-o4b0CJs"
      },
      "execution_count": null,
      "outputs": []
    },
    {
      "cell_type": "code",
      "source": [
        "len(shawn_bad_df)"
      ],
      "metadata": {
        "colab": {
          "base_uri": "https://localhost:8080/"
        },
        "id": "8dZjv9Z80D0P",
        "outputId": "badcea8a-d6c0-40ac-ae29-e12b720aeef9"
      },
      "execution_count": null,
      "outputs": [
        {
          "output_type": "execute_result",
          "data": {
            "text/plain": [
              "13"
            ]
          },
          "metadata": {},
          "execution_count": 11
        }
      ]
    },
    {
      "cell_type": "code",
      "source": [
        "temp0 = shawn_good_df.copy(deep=True)\n",
        "temp0['result'] = 0\n",
        "alan_bad_df = pd.DataFrame()\n",
        "alan_bad_df = pd.concat([alan_bad_df, temp0])\n",
        "\n",
        "temp1 = alan_good_df.copy(deep=True)\n",
        "temp1['result'] = 0\n",
        "shawn_bad_df = pd.DataFrame()\n",
        "shawn_bad_df = pd.concat([shawn_bad_df, temp1])"
      ],
      "metadata": {
        "id": "qfNVZWgRsdI_"
      },
      "execution_count": null,
      "outputs": []
    },
    {
      "cell_type": "code",
      "source": [
        "len(shawn_bad_df)"
      ],
      "metadata": {
        "colab": {
          "base_uri": "https://localhost:8080/"
        },
        "id": "LPq_91Xu0Mep",
        "outputId": "770cd4a3-32d3-4b7c-e25c-c0da238d4fae"
      },
      "execution_count": null,
      "outputs": [
        {
          "output_type": "execute_result",
          "data": {
            "text/plain": [
              "10"
            ]
          },
          "metadata": {},
          "execution_count": 8
        }
      ]
    },
    {
      "cell_type": "code",
      "source": [
        "alan_df = pd.concat([alan_good_df, alan_bad_df])\n",
        "alan_df.reset_index(drop=True, inplace=True)\n",
        "shawn_df = pd.concat([shawn_good_df, shawn_bad_df])\n",
        "shawn_df.reset_index(drop=True, inplace=True)\n",
        "alan_df.fillna(0, inplace=True)\n",
        "shawn_df.fillna(0, inplace=True)"
      ],
      "metadata": {
        "id": "EIe3_gjdyoKu"
      },
      "execution_count": null,
      "outputs": []
    },
    {
      "cell_type": "code",
      "source": [
        "from sklearn.decomposition import PCA\n",
        "from sklearn.preprocessing import StandardScaler\n",
        "scaler = StandardScaler()\n",
        "shawn_df_scaled = scaler.fit_transform(shawn_df)"
      ],
      "metadata": {
        "id": "Wx5YnWp3E3gu"
      },
      "execution_count": null,
      "outputs": []
    },
    {
      "cell_type": "code",
      "source": [
        "# Initialize PCA and fit the scaled data\n",
        "pca = PCA(n_components=2)  # Here, we reduce the dimensions to 2\n",
        "principal_components = pca.fit_transform(shawn_df_scaled)\n",
        "\n",
        "principal_df = pd.DataFrame(data = principal_components, columns = ['Principal Component 1', 'Principal Component 2'])\n",
        "\n",
        "loadings = pd.DataFrame(pca.components_.T, columns=['PC1', 'PC2'], index=shawn_df.columns)\n",
        "\n",
        "# Find the most important feature for each principal component\n",
        "most_important = {component: loadings[component].abs().idxmax() for component in loadings.columns}\n",
        "\n",
        "# Print loadings\n",
        "print(\"Principal Components Loadings:\")\n",
        "print(loadings)\n",
        "\n",
        "# Print the most important feature for each principal component\n",
        "print(\"\\nMost Important Feature for each Principal Component:\")\n",
        "for component, feature in most_important.items():\n",
        "    print(f\"{component}: {feature} with loading of {loadings.loc[feature, component]}\")\n",
        "\n",
        "# Display the DataFrame with principal components\n",
        "print(\"\\nPrincipal Components:\")\n",
        "print(principal_df)\n",
        "\n",
        "# Explained variance ratio\n",
        "print(\"\\nExplained Variance Ratio:\")\n",
        "print(pca.explained_variance_ratio_)"
      ],
      "metadata": {
        "colab": {
          "base_uri": "https://localhost:8080/"
        },
        "id": "-59aSViDy29Y",
        "outputId": "2870431d-e2cc-4c71-80b1-7c465584a444"
      },
      "execution_count": null,
      "outputs": [
        {
          "output_type": "stream",
          "name": "stdout",
          "text": [
            "Principal Components Loadings:\n",
            "                       PC1           PC2\n",
            "minDistance       0.211643  7.071068e-01\n",
            "averageDistance  -0.333946  5.551115e-17\n",
            "totalObjects      0.467046 -8.326673e-17\n",
            "totalColorRange  -0.450915  2.498002e-16\n",
            "ft_sitting        0.299970 -2.498002e-16\n",
            "ft_utility        0.407320 -3.469447e-16\n",
            "ft_entertainment  0.348636 -2.775558e-16\n",
            "result           -0.211643  7.071068e-01\n",
            "\n",
            "Most Important Feature for each Principal Component:\n",
            "PC1: totalObjects with loading of 0.46704601248035005\n",
            "PC2: result with loading of 0.7071067811865477\n",
            "\n",
            "Principal Components:\n",
            "    Principal Component 1  Principal Component 2\n",
            "0               -0.813207           1.472149e+00\n",
            "1               -2.679309           1.472149e+00\n",
            "2               -1.501815           1.472149e+00\n",
            "3               -1.639706           1.472149e+00\n",
            "4               -1.018727           1.472149e+00\n",
            "5               -0.747501           1.472149e+00\n",
            "6               -0.787205           1.472149e+00\n",
            "7               -1.190362           1.472149e+00\n",
            "8               -1.011126           1.472149e+00\n",
            "9               -2.467902           1.472149e+00\n",
            "10              -0.062027           1.472149e+00\n",
            "11              -1.187410           1.472149e+00\n",
            "12              -1.258848           1.472149e+00\n",
            "13              -0.813207          -1.472149e+00\n",
            "14              -2.679309          -1.472149e+00\n",
            "15              -1.501815          -1.472149e+00\n",
            "16              -1.639706          -1.472149e+00\n",
            "17              -1.018727          -1.472149e+00\n",
            "18              -0.747501          -1.472149e+00\n",
            "19              -0.787205          -1.472149e+00\n",
            "20              -1.190362          -1.472149e+00\n",
            "21              -1.011126          -1.472149e+00\n",
            "22              -2.467902          -1.472149e+00\n",
            "23              -0.062027          -1.472149e+00\n",
            "24              -1.187410          -1.472149e+00\n",
            "25              -1.258848          -1.472149e+00\n",
            "26               3.432944          -7.463348e-16\n",
            "27               3.135013          -7.556578e-16\n",
            "28               3.543814          -1.159492e-15\n",
            "29               2.732063          -1.019923e-15\n",
            "30               3.688455          -1.411015e-15\n",
            "31               2.960650          -9.856759e-16\n",
            "32               3.527885          -8.244537e-16\n",
            "33               3.127865          -6.095323e-16\n",
            "34               3.163951          -3.130315e-16\n",
            "35               3.417653          -7.472146e-16\n",
            "\n",
            "Explained Variance Ratio:\n",
            "[0.55897295 0.19565217]\n"
          ]
        }
      ]
    },
    {
      "cell_type": "code",
      "source": [
        "import pandas as pd\n",
        "from sklearn.discriminant_analysis import LinearDiscriminantAnalysis as LDA\n",
        "from sklearn.preprocessing import StandardScaler\n",
        "\n",
        "df = shawn_df.copy(deep=True)\n",
        "\n",
        "X = df.iloc[:, :-1]\n",
        "y = df['result']\n",
        "\n",
        "scaler = StandardScaler()\n",
        "X_scaled = scaler.fit_transform(X)\n",
        "\n",
        "lda = LDA(n_components=1)\n",
        "X_lda = lda.fit_transform(X_scaled, y)\n",
        "\n",
        "coefficients = pd.DataFrame(lda.scalings_, index=df.columns[:-1], columns=['LD1'])\n",
        "print(\"LDA Coefficients:\")\n",
        "print(coefficients)\n",
        "\n",
        "# Identify the most important feature\n",
        "most_important_feature = coefficients.abs().idxmax()[0]\n",
        "most_important_value = coefficients.loc[most_important_feature, 'LD1']\n",
        "\n",
        "print(f\"\\nThe most important feature is '{most_important_feature}' with a coefficient of {most_important_value}.\")"
      ],
      "metadata": {
        "colab": {
          "base_uri": "https://localhost:8080/"
        },
        "id": "coIIK6wH0ZqH",
        "outputId": "fe12a698-7a39-4273-b462-78006bbd8acb"
      },
      "execution_count": null,
      "outputs": [
        {
          "output_type": "stream",
          "name": "stdout",
          "text": [
            "LDA Coefficients:\n",
            "                       LD1\n",
            "minDistance       0.000000\n",
            "averageDistance   0.137154\n",
            "totalObjects     -1.062866\n",
            "totalColorRange   5.587013\n",
            "ft_sitting       -0.438520\n",
            "ft_utility       -0.211379\n",
            "ft_entertainment  0.320026\n",
            "\n",
            "The most important feature is 'totalColorRange' with a coefficient of 5.587013205804278.\n"
          ]
        }
      ]
    },
    {
      "cell_type": "code",
      "source": [
        "import matplotlib.pyplot as plt\n",
        "df = shawn_df.copy(deep=True)\n",
        "\n",
        "# Summary statistics\n",
        "grouped = df.groupby('result')\n",
        "summary_statistics = grouped.agg(['mean', 'std', 'median', 'min', 'max'])\n",
        "print(\"Summary Statistics by Class:\")\n",
        "print(summary_statistics)\n",
        "\n",
        "# Visualize data\n",
        "for column in df.columns[:-1]:  # Exclude the class label column\n",
        "    plt.figure(figsize=(8, 4))\n",
        "    df.boxplot(column=column, by='result')\n",
        "    plt.title(f'Boxplot of {column} by result')\n",
        "    plt.xlabel('result')\n",
        "    plt.ylabel(column)\n",
        "    plt.show()"
      ],
      "metadata": {
        "colab": {
          "base_uri": "https://localhost:8080/",
          "height": 1000
        },
        "id": "6LvXnblI2ZWF",
        "outputId": "cfac8859-ea1a-4248-cb87-1f7ef1bf457f"
      },
      "execution_count": null,
      "outputs": [
        {
          "output_type": "stream",
          "name": "stdout",
          "text": [
            "Summary Statistics by Class:\n",
            "       minDistance                     averageDistance                      \\\n",
            "              mean  std median min max            mean       std    median   \n",
            "result                                                                       \n",
            "0              1.0  0.0    1.0   1   1        2.967421  0.402414  2.887981   \n",
            "1              1.0  0.0    1.0   1   1        3.606274  0.446855  3.564097   \n",
            "\n",
            "                            ... ft_utility                           \\\n",
            "             min       max  ...       mean       std median min max   \n",
            "result                      ...                                       \n",
            "0       2.320291  3.617386  ...   4.900000  1.449138    5.0   3   8   \n",
            "1       2.658502  4.376476  ...   1.923077  0.493548    2.0   1   3   \n",
            "\n",
            "       ft_entertainment                             \n",
            "                   mean       std median  min  max  \n",
            "result                                              \n",
            "0              2.400000  0.516398    2.0  2.0  3.0  \n",
            "1              1.076923  0.759555    1.0  0.0  2.0  \n",
            "\n",
            "[2 rows x 35 columns]\n"
          ]
        },
        {
          "output_type": "display_data",
          "data": {
            "text/plain": [
              "<Figure size 800x400 with 0 Axes>"
            ]
          },
          "metadata": {}
        },
        {
          "output_type": "display_data",
          "data": {
            "text/plain": [
              "<Figure size 640x480 with 1 Axes>"
            ],
            "image/png": "[encoded data removed]"
          },
          "metadata": {}
        },
        {
          "output_type": "display_data",
          "data": {
            "text/plain": [
              "<Figure size 800x400 with 0 Axes>"
            ]
          },
          "metadata": {}
        },
        {
          "output_type": "display_data",
          "data": {
            "text/plain": [
              "<Figure size 640x480 with 1 Axes>"
            ],
            "image/png": "[encoded data removed]"
          },
          "metadata": {}
        },
        {
          "output_type": "display_data",
          "data": {
            "text/plain": [
              "<Figure size 800x400 with 0 Axes>"
            ]
          },
          "metadata": {}
        },
        {
          "output_type": "display_data",
          "data": {
            "text/plain": [
              "<Figure size 640x480 with 1 Axes>"
            ],
            "image/png": "[encoded data removed]"
          },
          "metadata": {}
        },
        {
          "output_type": "display_data",
          "data": {
            "text/plain": [
              "<Figure size 800x400 with 0 Axes>"
            ]
          },
          "metadata": {}
        },
        {
          "output_type": "display_data",
          "data": {
            "text/plain": [
              "<Figure size 640x480 with 1 Axes>"
            ],
            "image/png": "[encoded data removed]"
          },
          "metadata": {}
        },
        {
          "output_type": "display_data",
          "data": {
            "text/plain": [
              "<Figure size 800x400 with 0 Axes>"
            ]
          },
          "metadata": {}
        },
        {
          "output_type": "display_data",
          "data": {
            "text/plain": [
              "<Figure size 640x480 with 1 Axes>"
            ],
            "image/png": "[encoded data removed]"
          },
          "metadata": {}
        },
        {
          "output_type": "display_data",
          "data": {
            "text/plain": [
              "<Figure size 800x400 with 0 Axes>"
            ]
          },
          "metadata": {}
        },
        {
          "output_type": "display_data",
          "data": {
            "text/plain": [
              "<Figure size 640x480 with 1 Axes>"
            ],
            "image/png": "[encoded data removed]"
          },
          "metadata": {}
        },
        {
          "output_type": "display_data",
          "data": {
            "text/plain": [
              "<Figure size 800x400 with 0 Axes>"
            ]
          },
          "metadata": {}
        },
        {
          "output_type": "display_data",
          "data": {
            "text/plain": [
              "<Figure size 640x480 with 1 Axes>"
            ],
            "image/png": "[encoded data removed]"
          },
          "metadata": {}
        }
      ]
    },
    {
      "cell_type": "code",
      "source": [
        "1import pandas as pd\n",
        "from sklearn.discriminant_analysis import LinearDiscriminantAnalysis as LDA\n",
        "from sklearn.preprocessing import StandardScaler\n",
        "\n",
        "df = alan_df.copy(deep=True)\n",
        "df.drop(columns=['minDistance'], inplace=True)\n",
        "X = df.iloc[:, :-1]\n",
        "y = df['result']\n",
        "\n",
        "scaler = StandardScaler()\n",
        "X_scaled = scaler.fit_transform(X)\n",
        "\n",
        "lda = LDA(n_components=1)\n",
        "X_lda = lda.fit_transform(X_scaled, y)\n",
        "\n",
        "coefficients = pd.DataFrame(lda.scalings_, index=df.columns[:-1], columns=['LD1'])\n",
        "print(\"LDA Coefficients:\")\n",
        "print(coefficients)\n",
        "\n",
        "# Identify the most important feature\n",
        "most_important_feature = coefficients.abs().idxmax()[0]\n",
        "most_important_value = coefficients.loc[most_important_feature, 'LD1']\n",
        "\n",
        "print(f\"\\nThe most important feature is '{most_important_feature}' with a coefficient of {most_important_value}.\")"
      ],
      "metadata": {
        "colab": {
          "base_uri": "https://localhost:8080/"
        },
        "id": "kzpLDOC009Pt",
        "outputId": "7543606f-e204-416a-ea58-423dc4a14ecd"
      },
      "execution_count": null,
      "outputs": [
        {
          "output_type": "stream",
          "name": "stdout",
          "text": [
            "LDA Coefficients:\n",
            "                       LD1\n",
            "minDistance       0.000000\n",
            "averageDistance  -0.137154\n",
            "totalObjects      1.062866\n",
            "totalColorRange  -5.587013\n",
            "ft_sitting        0.438520\n",
            "ft_utility        0.211379\n",
            "ft_entertainment -0.320026\n",
            "\n",
            "The most important feature is 'totalColorRange' with a coefficient of -5.58701320580428.\n"
          ]
        }
      ]
    },
    {
      "cell_type": "code",
      "source": [
        "import numpy as np\n",
        "from sklearn.model_selection import train_test_split\n",
        "\n",
        "X=shawn_df.iloc[:,:7]\n",
        "y=shawn_df['result']\n",
        "X_train, X_test, y_train, y_test = train_test_split(X, y, test_size=0.33, random_state=42)\n",
        "\n",
        "from sklearn.preprocessing import StandardScaler\n",
        "scaler = StandardScaler().fit(X_train)\n",
        "X_train = scaler.transform(X_train)\n",
        "X_test = scaler.transform(X_test)\n",
        "\n",
        "import tensorflow as tf\n",
        "\n",
        "shawn_model = tf.keras.Sequential()\n",
        "shawn_model.add(tf.keras.layers.Dense(8, activation=\"relu\", input_shape = (7,)))\n",
        "shawn_model.add(tf.keras.layers.Dense(8, activation=\"relu\"))\n",
        "shawn_model.add(tf.keras.layers.Dense(1, activation=\"sigmoid\"))\n",
        "shawn_model.compile(loss='binary_crossentropy',optimizer='sgd',metrics=['accuracy'])\n",
        "\n",
        "shawn_model.fit(X_train, y_train,epochs=30, batch_size=2, verbose=1)"
      ],
      "metadata": {
        "colab": {
          "base_uri": "https://localhost:8080/"
        },
        "id": "JKCnu9VI3D3G",
        "outputId": "dd2ec5cd-7736-4d2e-c7c8-c07f6f499b3b"
      },
      "execution_count": null,
      "outputs": [
        {
          "output_type": "stream",
          "name": "stdout",
          "text": [
            "Epoch 1/30\n",
            "12/12 [==============================] - 1s 11ms/step - loss: 0.6283 - accuracy: 0.7500\n",
            "Epoch 2/30\n",
            "12/12 [==============================] - 0s 6ms/step - loss: 0.6129 - accuracy: 0.7917\n",
            "Epoch 3/30\n",
            "12/12 [==============================] - 0s 7ms/step - loss: 0.5975 - accuracy: 0.7917\n",
            "Epoch 4/30\n",
            "12/12 [==============================] - 0s 6ms/step - loss: 0.5837 - accuracy: 0.8333\n",
            "Epoch 5/30\n",
            "12/12 [==============================] - 0s 2ms/step - loss: 0.5677 - accuracy: 0.8333\n",
            "Epoch 6/30\n",
            "12/12 [==============================] - 0s 12ms/step - loss: 0.5540 - accuracy: 0.8333\n",
            "Epoch 7/30\n",
            "12/12 [==============================] - 0s 13ms/step - loss: 0.5374 - accuracy: 0.8333\n",
            "Epoch 8/30\n",
            "12/12 [==============================] - 0s 13ms/step - loss: 0.5211 - accuracy: 0.8333\n",
            "Epoch 9/30\n",
            "12/12 [==============================] - 0s 18ms/step - loss: 0.5055 - accuracy: 0.8750\n",
            "Epoch 10/30\n",
            "12/12 [==============================] - 0s 12ms/step - loss: 0.4895 - accuracy: 0.8750\n",
            "Epoch 11/30\n",
            "12/12 [==============================] - 0s 10ms/step - loss: 0.4745 - accuracy: 0.9167\n",
            "Epoch 12/30\n",
            "12/12 [==============================] - 0s 8ms/step - loss: 0.4592 - accuracy: 0.9167\n",
            "Epoch 13/30\n",
            "12/12 [==============================] - 0s 3ms/step - loss: 0.4426 - accuracy: 0.9167\n",
            "Epoch 14/30\n",
            "12/12 [==============================] - 0s 3ms/step - loss: 0.4276 - accuracy: 0.9167\n",
            "Epoch 15/30\n",
            "12/12 [==============================] - 0s 3ms/step - loss: 0.4125 - accuracy: 0.9167\n",
            "Epoch 16/30\n",
            "12/12 [==============================] - 0s 2ms/step - loss: 0.3982 - accuracy: 0.9167\n",
            "Epoch 17/30\n",
            "12/12 [==============================] - 0s 3ms/step - loss: 0.3831 - accuracy: 0.9167\n",
            "Epoch 18/30\n",
            "12/12 [==============================] - 0s 3ms/step - loss: 0.3673 - accuracy: 0.9167\n",
            "Epoch 19/30\n",
            "12/12 [==============================] - 0s 3ms/step - loss: 0.3535 - accuracy: 0.9167\n",
            "Epoch 20/30\n",
            "12/12 [==============================] - 0s 3ms/step - loss: 0.3390 - accuracy: 0.9583\n",
            "Epoch 21/30\n",
            "12/12 [==============================] - 0s 2ms/step - loss: 0.3254 - accuracy: 0.9583\n",
            "Epoch 22/30\n",
            "12/12 [==============================] - 0s 3ms/step - loss: 0.3119 - accuracy: 0.9583\n",
            "Epoch 23/30\n",
            "12/12 [==============================] - 0s 2ms/step - loss: 0.2989 - accuracy: 0.9583\n",
            "Epoch 24/30\n",
            "12/12 [==============================] - 0s 2ms/step - loss: 0.2857 - accuracy: 0.9583\n",
            "Epoch 25/30\n",
            "12/12 [==============================] - 0s 2ms/step - loss: 0.2714 - accuracy: 0.9583\n",
            "Epoch 26/30\n",
            "12/12 [==============================] - 0s 2ms/step - loss: 0.2572 - accuracy: 0.9583\n",
            "Epoch 27/30\n",
            "12/12 [==============================] - 0s 2ms/step - loss: 0.2443 - accuracy: 0.9583\n",
            "Epoch 28/30\n",
            "12/12 [==============================] - 0s 2ms/step - loss: 0.2319 - accuracy: 0.9583\n",
            "Epoch 29/30\n",
            "12/12 [==============================] - 0s 2ms/step - loss: 0.2203 - accuracy: 0.9583\n",
            "Epoch 30/30\n",
            "12/12 [==============================] - 0s 2ms/step - loss: 0.2088 - accuracy: 0.9583\n"
          ]
        },
        {
          "output_type": "execute_result",
          "data": {
            "text/plain": [
              "<keras.src.callbacks.History at 0x785c6c6435e0>"
            ]
          },
          "metadata": {},
          "execution_count": 24
        }
      ]
    },
    {
      "cell_type": "code",
      "source": [
        "import numpy as np\n",
        "from sklearn.model_selection import train_test_split\n",
        "\n",
        "X=alan_df.iloc[:,:7]\n",
        "y=alan_df['result']\n",
        "X_train, X_test, y_train, y_test = train_test_split(X, y, test_size=0.33, random_state=42)\n",
        "\n",
        "from sklearn.preprocessing import StandardScaler\n",
        "scaler = StandardScaler().fit(X_train)\n",
        "X_train = scaler.transform(X_train)\n",
        "X_test = scaler.transform(X_test)\n",
        "\n",
        "import tensorflow as tf\n",
        "\n",
        "alan_model = tf.keras.Sequential()\n",
        "alan_model.add(tf.keras.layers.Dense(8, activation=\"relu\", input_shape = (7,)))\n",
        "alan_model.add(tf.keras.layers.Dense(8, activation=\"relu\"))\n",
        "alan_model.add(tf.keras.layers.Dense(1, activation=\"sigmoid\"))\n",
        "alan_model.compile(loss='binary_crossentropy',optimizer='sgd',metrics=['accuracy'])\n",
        "\n",
        "alan_model.fit(X_train, y_train,epochs=30, batch_size=2, verbose=1)"
      ],
      "metadata": {
        "colab": {
          "base_uri": "https://localhost:8080/"
        },
        "id": "27HlyRpkzzxd",
        "outputId": "29ee19d2-e8bc-448e-d083-a71307e9736f"
      },
      "execution_count": null,
      "outputs": [
        {
          "output_type": "stream",
          "name": "stdout",
          "text": [
            "Epoch 1/30\n",
            "11/11 [==============================] - 1s 5ms/step - loss: 0.7401 - accuracy: 0.4545\n",
            "Epoch 2/30\n",
            "11/11 [==============================] - 0s 3ms/step - loss: 0.7194 - accuracy: 0.5455\n",
            "Epoch 3/30\n",
            "11/11 [==============================] - 0s 5ms/step - loss: 0.7012 - accuracy: 0.5909\n",
            "Epoch 4/30\n",
            "11/11 [==============================] - 0s 3ms/step - loss: 0.6842 - accuracy: 0.7273\n",
            "Epoch 5/30\n",
            "11/11 [==============================] - 0s 4ms/step - loss: 0.6691 - accuracy: 0.7273\n",
            "Epoch 6/30\n",
            "11/11 [==============================] - 0s 4ms/step - loss: 0.6542 - accuracy: 0.6818\n",
            "Epoch 7/30\n",
            "11/11 [==============================] - 0s 3ms/step - loss: 0.6413 - accuracy: 0.7273\n",
            "Epoch 8/30\n",
            "11/11 [==============================] - 0s 3ms/step - loss: 0.6285 - accuracy: 0.7727\n",
            "Epoch 9/30\n",
            "11/11 [==============================] - 0s 3ms/step - loss: 0.6167 - accuracy: 0.8182\n",
            "Epoch 10/30\n",
            "11/11 [==============================] - 0s 3ms/step - loss: 0.6054 - accuracy: 0.8182\n",
            "Epoch 11/30\n",
            "11/11 [==============================] - 0s 3ms/step - loss: 0.5949 - accuracy: 0.8182\n",
            "Epoch 12/30\n",
            "11/11 [==============================] - 0s 3ms/step - loss: 0.5852 - accuracy: 0.8182\n",
            "Epoch 13/30\n",
            "11/11 [==============================] - 0s 3ms/step - loss: 0.5747 - accuracy: 0.8182\n",
            "Epoch 14/30\n",
            "11/11 [==============================] - 0s 3ms/step - loss: 0.5646 - accuracy: 0.8636\n",
            "Epoch 15/30\n",
            "11/11 [==============================] - 0s 3ms/step - loss: 0.5546 - accuracy: 0.8636\n",
            "Epoch 16/30\n",
            "11/11 [==============================] - 0s 3ms/step - loss: 0.5440 - accuracy: 0.8636\n",
            "Epoch 17/30\n",
            "11/11 [==============================] - 0s 3ms/step - loss: 0.5349 - accuracy: 0.8636\n",
            "Epoch 18/30\n",
            "11/11 [==============================] - 0s 3ms/step - loss: 0.5244 - accuracy: 0.8636\n",
            "Epoch 19/30\n",
            "11/11 [==============================] - 0s 3ms/step - loss: 0.5134 - accuracy: 0.8636\n",
            "Epoch 20/30\n",
            "11/11 [==============================] - 0s 3ms/step - loss: 0.5022 - accuracy: 0.8636\n",
            "Epoch 21/30\n",
            "11/11 [==============================] - 0s 3ms/step - loss: 0.4902 - accuracy: 0.8636\n",
            "Epoch 22/30\n",
            "11/11 [==============================] - 0s 2ms/step - loss: 0.4784 - accuracy: 0.8636\n",
            "Epoch 23/30\n",
            "11/11 [==============================] - 0s 2ms/step - loss: 0.4664 - accuracy: 0.8636\n",
            "Epoch 24/30\n",
            "11/11 [==============================] - 0s 3ms/step - loss: 0.4534 - accuracy: 0.8636\n",
            "Epoch 25/30\n",
            "11/11 [==============================] - 0s 2ms/step - loss: 0.4419 - accuracy: 0.8636\n",
            "Epoch 26/30\n",
            "11/11 [==============================] - 0s 5ms/step - loss: 0.4280 - accuracy: 0.8636\n",
            "Epoch 27/30\n",
            "11/11 [==============================] - 0s 3ms/step - loss: 0.4145 - accuracy: 0.9091\n",
            "Epoch 28/30\n",
            "11/11 [==============================] - 0s 3ms/step - loss: 0.4007 - accuracy: 0.9091\n",
            "Epoch 29/30\n",
            "11/11 [==============================] - 0s 2ms/step - loss: 0.3869 - accuracy: 0.9091\n",
            "Epoch 30/30\n",
            "11/11 [==============================] - 0s 2ms/step - loss: 0.3738 - accuracy: 0.9545\n"
          ]
        },
        {
          "output_type": "execute_result",
          "data": {
            "text/plain": [
              "<keras.src.callbacks.History at 0x785c6c52d9f0>"
            ]
          },
          "metadata": {},
          "execution_count": 25
        }
      ]
    },
    {
      "cell_type": "code",
      "source": [
        "import numpy as np\n",
        "from sklearn.model_selection import train_test_split\n",
        "\n",
        "X=shawn_df.iloc[:,1:7]\n",
        "y=shawn_df['result']\n",
        "X_train, X_test, y_train, y_test = train_test_split(X, y, test_size=0.33, random_state=42)\n",
        "\n",
        "from sklearn.preprocessing import StandardScaler\n",
        "scaler = StandardScaler().fit(X_train)\n",
        "X_train = scaler.transform(X_train)\n",
        "X_test = scaler.transform(X_test)\n",
        "\n",
        "import tensorflow as tf\n",
        "\n",
        "shawn_model_no_tv = tf.keras.Sequential()\n",
        "shawn_model_no_tv.add(tf.keras.layers.Dense(8, activation=\"relu\", input_shape = (6,)))\n",
        "shawn_model_no_tv.add(tf.keras.layers.Dense(8, activation=\"relu\"))\n",
        "shawn_model_no_tv.add(tf.keras.layers.Dense(1, activation=\"sigmoid\"))\n",
        "shawn_model_no_tv.compile(loss='binary_crossentropy',optimizer='sgd',metrics=['accuracy'])\n",
        "\n",
        "shawn_model_no_tv.fit(X_train, y_train,epochs=100, batch_size=2, verbose=1)"
      ],
      "metadata": {
        "colab": {
          "base_uri": "https://localhost:8080/"
        },
        "id": "bK7Mq_SBQUJP",
        "outputId": "1f09f072-7703-4f70-eaa6-b01f4ae9e1e9"
      },
      "execution_count": null,
      "outputs": [
        {
          "output_type": "stream",
          "name": "stdout",
          "text": [
            "Epoch 1/100\n",
            "8/8 [==============================] - 1s 3ms/step - loss: 0.5848 - accuracy: 0.8000\n",
            "Epoch 2/100\n",
            "8/8 [==============================] - 0s 2ms/step - loss: 0.5267 - accuracy: 0.9333\n",
            "Epoch 3/100\n",
            "8/8 [==============================] - 0s 2ms/step - loss: 0.4781 - accuracy: 0.9333\n",
            "Epoch 4/100\n",
            "8/8 [==============================] - 0s 2ms/step - loss: 0.4296 - accuracy: 0.9333\n",
            "Epoch 5/100\n",
            "8/8 [==============================] - 0s 2ms/step - loss: 0.3850 - accuracy: 1.0000\n",
            "Epoch 6/100\n",
            "8/8 [==============================] - 0s 2ms/step - loss: 0.3489 - accuracy: 1.0000\n",
            "Epoch 7/100\n",
            "8/8 [==============================] - 0s 2ms/step - loss: 0.3175 - accuracy: 1.0000\n",
            "Epoch 8/100\n",
            "8/8 [==============================] - 0s 2ms/step - loss: 0.2887 - accuracy: 1.0000\n",
            "Epoch 9/100\n",
            "8/8 [==============================] - 0s 2ms/step - loss: 0.2626 - accuracy: 1.0000\n",
            "Epoch 10/100\n",
            "8/8 [==============================] - 0s 2ms/step - loss: 0.2415 - accuracy: 1.0000\n",
            "Epoch 11/100\n",
            "8/8 [==============================] - 0s 2ms/step - loss: 0.2221 - accuracy: 1.0000\n",
            "Epoch 12/100\n",
            "8/8 [==============================] - 0s 2ms/step - loss: 0.2042 - accuracy: 1.0000\n",
            "Epoch 13/100\n",
            "8/8 [==============================] - 0s 2ms/step - loss: 0.1883 - accuracy: 1.0000\n",
            "Epoch 14/100\n",
            "8/8 [==============================] - 0s 3ms/step - loss: 0.1741 - accuracy: 1.0000\n",
            "Epoch 15/100\n",
            "8/8 [==============================] - 0s 2ms/step - loss: 0.1613 - accuracy: 1.0000\n",
            "Epoch 16/100\n",
            "8/8 [==============================] - 0s 2ms/step - loss: 0.1493 - accuracy: 1.0000\n",
            "Epoch 17/100\n",
            "8/8 [==============================] - 0s 2ms/step - loss: 0.1385 - accuracy: 1.0000\n",
            "Epoch 18/100\n",
            "8/8 [==============================] - 0s 2ms/step - loss: 0.1287 - accuracy: 1.0000\n",
            "Epoch 19/100\n",
            "8/8 [==============================] - 0s 3ms/step - loss: 0.1207 - accuracy: 1.0000\n",
            "Epoch 20/100\n",
            "8/8 [==============================] - 0s 2ms/step - loss: 0.1127 - accuracy: 1.0000\n",
            "Epoch 21/100\n",
            "8/8 [==============================] - 0s 2ms/step - loss: 0.1055 - accuracy: 1.0000\n",
            "Epoch 22/100\n",
            "8/8 [==============================] - 0s 2ms/step - loss: 0.0989 - accuracy: 1.0000\n",
            "Epoch 23/100\n",
            "8/8 [==============================] - 0s 2ms/step - loss: 0.0928 - accuracy: 1.0000\n",
            "Epoch 24/100\n",
            "8/8 [==============================] - 0s 2ms/step - loss: 0.0872 - accuracy: 1.0000\n",
            "Epoch 25/100\n",
            "8/8 [==============================] - 0s 2ms/step - loss: 0.0820 - accuracy: 1.0000\n",
            "Epoch 26/100\n",
            "8/8 [==============================] - 0s 2ms/step - loss: 0.0774 - accuracy: 1.0000\n",
            "Epoch 27/100\n",
            "8/8 [==============================] - 0s 2ms/step - loss: 0.0731 - accuracy: 1.0000\n",
            "Epoch 28/100\n",
            "8/8 [==============================] - 0s 2ms/step - loss: 0.0692 - accuracy: 1.0000\n",
            "Epoch 29/100\n",
            "8/8 [==============================] - 0s 2ms/step - loss: 0.0656 - accuracy: 1.0000\n",
            "Epoch 30/100\n",
            "8/8 [==============================] - 0s 2ms/step - loss: 0.0623 - accuracy: 1.0000\n",
            "Epoch 31/100\n",
            "8/8 [==============================] - 0s 2ms/step - loss: 0.0593 - accuracy: 1.0000\n",
            "Epoch 32/100\n",
            "8/8 [==============================] - 0s 2ms/step - loss: 0.0565 - accuracy: 1.0000\n",
            "Epoch 33/100\n",
            "8/8 [==============================] - 0s 3ms/step - loss: 0.0537 - accuracy: 1.0000\n",
            "Epoch 34/100\n",
            "8/8 [==============================] - 0s 3ms/step - loss: 0.0512 - accuracy: 1.0000\n",
            "Epoch 35/100\n",
            "8/8 [==============================] - 0s 4ms/step - loss: 0.0488 - accuracy: 1.0000\n",
            "Epoch 36/100\n",
            "8/8 [==============================] - 0s 3ms/step - loss: 0.0466 - accuracy: 1.0000\n",
            "Epoch 37/100\n",
            "8/8 [==============================] - 0s 2ms/step - loss: 0.0447 - accuracy: 1.0000\n",
            "Epoch 38/100\n",
            "8/8 [==============================] - 0s 3ms/step - loss: 0.0428 - accuracy: 1.0000\n",
            "Epoch 39/100\n",
            "8/8 [==============================] - 0s 2ms/step - loss: 0.0410 - accuracy: 1.0000\n",
            "Epoch 40/100\n",
            "8/8 [==============================] - 0s 2ms/step - loss: 0.0395 - accuracy: 1.0000\n",
            "Epoch 41/100\n",
            "8/8 [==============================] - 0s 3ms/step - loss: 0.0380 - accuracy: 1.0000\n",
            "Epoch 42/100\n",
            "8/8 [==============================] - 0s 2ms/step - loss: 0.0365 - accuracy: 1.0000\n",
            "Epoch 43/100\n",
            "8/8 [==============================] - 0s 3ms/step - loss: 0.0352 - accuracy: 1.0000\n",
            "Epoch 44/100\n",
            "8/8 [==============================] - 0s 2ms/step - loss: 0.0339 - accuracy: 1.0000\n",
            "Epoch 45/100\n",
            "8/8 [==============================] - 0s 2ms/step - loss: 0.0326 - accuracy: 1.0000\n",
            "Epoch 46/100\n",
            "8/8 [==============================] - 0s 3ms/step - loss: 0.0315 - accuracy: 1.0000\n",
            "Epoch 47/100\n",
            "8/8 [==============================] - 0s 3ms/step - loss: 0.0304 - accuracy: 1.0000\n",
            "Epoch 48/100\n",
            "8/8 [==============================] - 0s 2ms/step - loss: 0.0294 - accuracy: 1.0000\n",
            "Epoch 49/100\n",
            "8/8 [==============================] - 0s 2ms/step - loss: 0.0285 - accuracy: 1.0000\n",
            "Epoch 50/100\n",
            "8/8 [==============================] - 0s 2ms/step - loss: 0.0275 - accuracy: 1.0000\n",
            "Epoch 51/100\n",
            "8/8 [==============================] - 0s 2ms/step - loss: 0.0267 - accuracy: 1.0000\n",
            "Epoch 52/100\n",
            "8/8 [==============================] - 0s 2ms/step - loss: 0.0259 - accuracy: 1.0000\n",
            "Epoch 53/100\n",
            "8/8 [==============================] - 0s 2ms/step - loss: 0.0251 - accuracy: 1.0000\n",
            "Epoch 54/100\n",
            "8/8 [==============================] - 0s 2ms/step - loss: 0.0243 - accuracy: 1.0000\n",
            "Epoch 55/100\n",
            "8/8 [==============================] - 0s 2ms/step - loss: 0.0236 - accuracy: 1.0000\n",
            "Epoch 56/100\n",
            "8/8 [==============================] - 0s 3ms/step - loss: 0.0229 - accuracy: 1.0000\n",
            "Epoch 57/100\n",
            "8/8 [==============================] - 0s 2ms/step - loss: 0.0222 - accuracy: 1.0000\n",
            "Epoch 58/100\n",
            "8/8 [==============================] - 0s 2ms/step - loss: 0.0216 - accuracy: 1.0000\n",
            "Epoch 59/100\n",
            "8/8 [==============================] - 0s 2ms/step - loss: 0.0211 - accuracy: 1.0000\n",
            "Epoch 60/100\n",
            "8/8 [==============================] - 0s 2ms/step - loss: 0.0205 - accuracy: 1.0000\n",
            "Epoch 61/100\n",
            "8/8 [==============================] - 0s 2ms/step - loss: 0.0200 - accuracy: 1.0000\n",
            "Epoch 62/100\n",
            "8/8 [==============================] - 0s 2ms/step - loss: 0.0195 - accuracy: 1.0000\n",
            "Epoch 63/100\n",
            "8/8 [==============================] - 0s 2ms/step - loss: 0.0190 - accuracy: 1.0000\n",
            "Epoch 64/100\n",
            "8/8 [==============================] - 0s 3ms/step - loss: 0.0185 - accuracy: 1.0000\n",
            "Epoch 65/100\n",
            "8/8 [==============================] - 0s 2ms/step - loss: 0.0181 - accuracy: 1.0000\n",
            "Epoch 66/100\n",
            "8/8 [==============================] - 0s 2ms/step - loss: 0.0176 - accuracy: 1.0000\n",
            "Epoch 67/100\n",
            "8/8 [==============================] - 0s 2ms/step - loss: 0.0172 - accuracy: 1.0000\n",
            "Epoch 68/100\n",
            "8/8 [==============================] - 0s 2ms/step - loss: 0.0168 - accuracy: 1.0000\n",
            "Epoch 69/100\n",
            "8/8 [==============================] - 0s 2ms/step - loss: 0.0164 - accuracy: 1.0000\n",
            "Epoch 70/100\n",
            "8/8 [==============================] - 0s 2ms/step - loss: 0.0161 - accuracy: 1.0000\n",
            "Epoch 71/100\n",
            "8/8 [==============================] - 0s 2ms/step - loss: 0.0157 - accuracy: 1.0000\n",
            "Epoch 72/100\n",
            "8/8 [==============================] - 0s 2ms/step - loss: 0.0154 - accuracy: 1.0000\n",
            "Epoch 73/100\n",
            "8/8 [==============================] - 0s 3ms/step - loss: 0.0150 - accuracy: 1.0000\n",
            "Epoch 74/100\n",
            "8/8 [==============================] - 0s 2ms/step - loss: 0.0147 - accuracy: 1.0000\n",
            "Epoch 75/100\n",
            "8/8 [==============================] - 0s 2ms/step - loss: 0.0144 - accuracy: 1.0000\n",
            "Epoch 76/100\n",
            "8/8 [==============================] - 0s 3ms/step - loss: 0.0141 - accuracy: 1.0000\n",
            "Epoch 77/100\n",
            "8/8 [==============================] - 0s 3ms/step - loss: 0.0138 - accuracy: 1.0000\n",
            "Epoch 78/100\n",
            "8/8 [==============================] - 0s 2ms/step - loss: 0.0136 - accuracy: 1.0000\n",
            "Epoch 79/100\n",
            "8/8 [==============================] - 0s 2ms/step - loss: 0.0133 - accuracy: 1.0000\n",
            "Epoch 80/100\n",
            "8/8 [==============================] - 0s 2ms/step - loss: 0.0131 - accuracy: 1.0000\n",
            "Epoch 81/100\n",
            "8/8 [==============================] - 0s 2ms/step - loss: 0.0128 - accuracy: 1.0000\n",
            "Epoch 82/100\n",
            "8/8 [==============================] - 0s 2ms/step - loss: 0.0126 - accuracy: 1.0000\n",
            "Epoch 83/100\n",
            "8/8 [==============================] - 0s 2ms/step - loss: 0.0124 - accuracy: 1.0000\n",
            "Epoch 84/100\n",
            "8/8 [==============================] - 0s 2ms/step - loss: 0.0121 - accuracy: 1.0000\n",
            "Epoch 85/100\n",
            "8/8 [==============================] - 0s 2ms/step - loss: 0.0119 - accuracy: 1.0000\n",
            "Epoch 86/100\n",
            "8/8 [==============================] - 0s 2ms/step - loss: 0.0117 - accuracy: 1.0000\n",
            "Epoch 87/100\n",
            "8/8 [==============================] - 0s 2ms/step - loss: 0.0115 - accuracy: 1.0000\n",
            "Epoch 88/100\n",
            "8/8 [==============================] - 0s 2ms/step - loss: 0.0113 - accuracy: 1.0000\n",
            "Epoch 89/100\n",
            "8/8 [==============================] - 0s 3ms/step - loss: 0.0111 - accuracy: 1.0000\n",
            "Epoch 90/100\n",
            "8/8 [==============================] - 0s 3ms/step - loss: 0.0109 - accuracy: 1.0000\n",
            "Epoch 91/100\n",
            "8/8 [==============================] - 0s 2ms/step - loss: 0.0107 - accuracy: 1.0000\n",
            "Epoch 92/100\n",
            "8/8 [==============================] - 0s 2ms/step - loss: 0.0106 - accuracy: 1.0000\n",
            "Epoch 93/100\n",
            "8/8 [==============================] - 0s 2ms/step - loss: 0.0104 - accuracy: 1.0000\n",
            "Epoch 94/100\n",
            "8/8 [==============================] - 0s 2ms/step - loss: 0.0102 - accuracy: 1.0000\n",
            "Epoch 95/100\n",
            "8/8 [==============================] - 0s 2ms/step - loss: 0.0101 - accuracy: 1.0000\n",
            "Epoch 96/100\n",
            "8/8 [==============================] - 0s 2ms/step - loss: 0.0099 - accuracy: 1.0000\n",
            "Epoch 97/100\n",
            "8/8 [==============================] - 0s 3ms/step - loss: 0.0098 - accuracy: 1.0000\n",
            "Epoch 98/100\n",
            "8/8 [==============================] - 0s 2ms/step - loss: 0.0096 - accuracy: 1.0000\n",
            "Epoch 99/100\n",
            "8/8 [==============================] - 0s 2ms/step - loss: 0.0095 - accuracy: 1.0000\n",
            "Epoch 100/100\n",
            "8/8 [==============================] - 0s 2ms/step - loss: 0.0093 - accuracy: 1.0000\n"
          ]
        },
        {
          "output_type": "execute_result",
          "data": {
            "text/plain": [
              "<keras.src.callbacks.History at 0x79a96fad04c0>"
            ]
          },
          "metadata": {},
          "execution_count": 12
        }
      ]
    },
    {
      "cell_type": "code",
      "source": [
        "import numpy as np\n",
        "from sklearn.model_selection import train_test_split\n",
        "\n",
        "X=alan_df.iloc[:,1:7]\n",
        "y=alan_df['result']\n",
        "X_train, X_test, y_train, y_test = train_test_split(X, y, test_size=0.33, random_state=42)\n",
        "\n",
        "from sklearn.preprocessing import StandardScaler\n",
        "scaler = StandardScaler().fit(X_train)\n",
        "X_train = scaler.transform(X_train)\n",
        "X_test = scaler.transform(X_test)\n",
        "\n",
        "import tensorflow as tf\n",
        "\n",
        "alan_model_no_tv = tf.keras.Sequential()\n",
        "alan_model_no_tv.add(tf.keras.layers.Dense(8, activation=\"relu\", input_shape = (6,)))\n",
        "alan_model_no_tv.add(tf.keras.layers.Dense(8, activation=\"relu\"))\n",
        "alan_model_no_tv.add(tf.keras.layers.Dense(1, activation=\"sigmoid\"))\n",
        "alan_model_no_tv.compile(loss='binary_crossentropy',optimizer='sgd',metrics=['accuracy'])\n",
        "\n",
        "alan_model_no_tv.fit(X_train, y_train,epochs=100, batch_size=2, verbose=1)"
      ],
      "metadata": {
        "colab": {
          "base_uri": "https://localhost:8080/"
        },
        "id": "1kdXTWyqQgz6",
        "outputId": "afa431b3-5a78-40a6-96d4-a8760ecfa4c6"
      },
      "execution_count": null,
      "outputs": [
        {
          "output_type": "stream",
          "name": "stdout",
          "text": [
            "Epoch 1/100\n",
            "8/8 [==============================] - 1s 4ms/step - loss: 0.6596 - accuracy: 0.4000\n",
            "Epoch 2/100\n",
            "8/8 [==============================] - 0s 4ms/step - loss: 0.6026 - accuracy: 0.4000\n",
            "Epoch 3/100\n",
            "8/8 [==============================] - 0s 3ms/step - loss: 0.5534 - accuracy: 0.6000\n",
            "Epoch 4/100\n",
            "8/8 [==============================] - 0s 4ms/step - loss: 0.5137 - accuracy: 0.7333\n",
            "Epoch 5/100\n",
            "8/8 [==============================] - 0s 3ms/step - loss: 0.4775 - accuracy: 0.8000\n",
            "Epoch 6/100\n",
            "8/8 [==============================] - 0s 3ms/step - loss: 0.4493 - accuracy: 0.8000\n",
            "Epoch 7/100\n",
            "8/8 [==============================] - 0s 3ms/step - loss: 0.4231 - accuracy: 0.8000\n",
            "Epoch 8/100\n",
            "8/8 [==============================] - 0s 3ms/step - loss: 0.4007 - accuracy: 0.8000\n",
            "Epoch 9/100\n",
            "8/8 [==============================] - 0s 3ms/step - loss: 0.3769 - accuracy: 0.9333\n",
            "Epoch 10/100\n",
            "8/8 [==============================] - 0s 3ms/step - loss: 0.3559 - accuracy: 0.9333\n",
            "Epoch 11/100\n",
            "8/8 [==============================] - 0s 4ms/step - loss: 0.3352 - accuracy: 1.0000\n",
            "Epoch 12/100\n",
            "8/8 [==============================] - 0s 4ms/step - loss: 0.3171 - accuracy: 1.0000\n",
            "Epoch 13/100\n",
            "8/8 [==============================] - 0s 4ms/step - loss: 0.3000 - accuracy: 1.0000\n",
            "Epoch 14/100\n",
            "8/8 [==============================] - 0s 4ms/step - loss: 0.2848 - accuracy: 1.0000\n",
            "Epoch 15/100\n",
            "8/8 [==============================] - 0s 4ms/step - loss: 0.2693 - accuracy: 1.0000\n",
            "Epoch 16/100\n",
            "8/8 [==============================] - 0s 5ms/step - loss: 0.2555 - accuracy: 1.0000\n",
            "Epoch 17/100\n",
            "8/8 [==============================] - 0s 3ms/step - loss: 0.2422 - accuracy: 1.0000\n",
            "Epoch 18/100\n",
            "8/8 [==============================] - 0s 4ms/step - loss: 0.2301 - accuracy: 1.0000\n",
            "Epoch 19/100\n",
            "8/8 [==============================] - 0s 6ms/step - loss: 0.2180 - accuracy: 1.0000\n",
            "Epoch 20/100\n",
            "8/8 [==============================] - 0s 4ms/step - loss: 0.2055 - accuracy: 1.0000\n",
            "Epoch 21/100\n",
            "8/8 [==============================] - 0s 5ms/step - loss: 0.1949 - accuracy: 1.0000\n",
            "Epoch 22/100\n",
            "8/8 [==============================] - 0s 4ms/step - loss: 0.1841 - accuracy: 1.0000\n",
            "Epoch 23/100\n",
            "8/8 [==============================] - 0s 6ms/step - loss: 0.1736 - accuracy: 1.0000\n",
            "Epoch 24/100\n",
            "8/8 [==============================] - 0s 3ms/step - loss: 0.1642 - accuracy: 1.0000\n",
            "Epoch 25/100\n",
            "8/8 [==============================] - 0s 5ms/step - loss: 0.1561 - accuracy: 1.0000\n",
            "Epoch 26/100\n",
            "8/8 [==============================] - 0s 5ms/step - loss: 0.1484 - accuracy: 1.0000\n",
            "Epoch 27/100\n",
            "8/8 [==============================] - 0s 4ms/step - loss: 0.1414 - accuracy: 1.0000\n",
            "Epoch 28/100\n",
            "8/8 [==============================] - 0s 4ms/step - loss: 0.1346 - accuracy: 1.0000\n",
            "Epoch 29/100\n",
            "8/8 [==============================] - 0s 4ms/step - loss: 0.1285 - accuracy: 1.0000\n",
            "Epoch 30/100\n",
            "8/8 [==============================] - 0s 3ms/step - loss: 0.1219 - accuracy: 1.0000\n",
            "Epoch 31/100\n",
            "8/8 [==============================] - 0s 3ms/step - loss: 0.1164 - accuracy: 1.0000\n",
            "Epoch 32/100\n",
            "8/8 [==============================] - 0s 5ms/step - loss: 0.1108 - accuracy: 1.0000\n",
            "Epoch 33/100\n",
            "8/8 [==============================] - 0s 6ms/step - loss: 0.1056 - accuracy: 1.0000\n",
            "Epoch 34/100\n",
            "8/8 [==============================] - 0s 7ms/step - loss: 0.1005 - accuracy: 1.0000\n",
            "Epoch 35/100\n",
            "8/8 [==============================] - 0s 4ms/step - loss: 0.0961 - accuracy: 1.0000\n",
            "Epoch 36/100\n",
            "8/8 [==============================] - 0s 4ms/step - loss: 0.0921 - accuracy: 1.0000\n",
            "Epoch 37/100\n",
            "8/8 [==============================] - 0s 3ms/step - loss: 0.0884 - accuracy: 1.0000\n",
            "Epoch 38/100\n",
            "8/8 [==============================] - 0s 3ms/step - loss: 0.0847 - accuracy: 1.0000\n",
            "Epoch 39/100\n",
            "8/8 [==============================] - 0s 4ms/step - loss: 0.0812 - accuracy: 1.0000\n",
            "Epoch 40/100\n",
            "8/8 [==============================] - 0s 3ms/step - loss: 0.0782 - accuracy: 1.0000\n",
            "Epoch 41/100\n",
            "8/8 [==============================] - 0s 3ms/step - loss: 0.0749 - accuracy: 1.0000\n",
            "Epoch 42/100\n",
            "8/8 [==============================] - 0s 4ms/step - loss: 0.0720 - accuracy: 1.0000\n",
            "Epoch 43/100\n",
            "8/8 [==============================] - 0s 4ms/step - loss: 0.0694 - accuracy: 1.0000\n",
            "Epoch 44/100\n",
            "8/8 [==============================] - 0s 3ms/step - loss: 0.0667 - accuracy: 1.0000\n",
            "Epoch 45/100\n",
            "8/8 [==============================] - 0s 4ms/step - loss: 0.0644 - accuracy: 1.0000\n",
            "Epoch 46/100\n",
            "8/8 [==============================] - 0s 5ms/step - loss: 0.0619 - accuracy: 1.0000\n",
            "Epoch 47/100\n",
            "8/8 [==============================] - 0s 4ms/step - loss: 0.0597 - accuracy: 1.0000\n",
            "Epoch 48/100\n",
            "8/8 [==============================] - 0s 4ms/step - loss: 0.0574 - accuracy: 1.0000\n",
            "Epoch 49/100\n",
            "8/8 [==============================] - 0s 4ms/step - loss: 0.0553 - accuracy: 1.0000\n",
            "Epoch 50/100\n",
            "8/8 [==============================] - 0s 4ms/step - loss: 0.0534 - accuracy: 1.0000\n",
            "Epoch 51/100\n",
            "8/8 [==============================] - 0s 4ms/step - loss: 0.0517 - accuracy: 1.0000\n",
            "Epoch 52/100\n",
            "8/8 [==============================] - 0s 5ms/step - loss: 0.0500 - accuracy: 1.0000\n",
            "Epoch 53/100\n",
            "8/8 [==============================] - 0s 3ms/step - loss: 0.0482 - accuracy: 1.0000\n",
            "Epoch 54/100\n",
            "8/8 [==============================] - 0s 3ms/step - loss: 0.0468 - accuracy: 1.0000\n",
            "Epoch 55/100\n",
            "8/8 [==============================] - 0s 4ms/step - loss: 0.0453 - accuracy: 1.0000\n",
            "Epoch 56/100\n",
            "8/8 [==============================] - 0s 3ms/step - loss: 0.0439 - accuracy: 1.0000\n",
            "Epoch 57/100\n",
            "8/8 [==============================] - 0s 3ms/step - loss: 0.0426 - accuracy: 1.0000\n",
            "Epoch 58/100\n",
            "8/8 [==============================] - 0s 3ms/step - loss: 0.0414 - accuracy: 1.0000\n",
            "Epoch 59/100\n",
            "8/8 [==============================] - 0s 4ms/step - loss: 0.0402 - accuracy: 1.0000\n",
            "Epoch 60/100\n",
            "8/8 [==============================] - 0s 3ms/step - loss: 0.0389 - accuracy: 1.0000\n",
            "Epoch 61/100\n",
            "8/8 [==============================] - 0s 3ms/step - loss: 0.0377 - accuracy: 1.0000\n",
            "Epoch 62/100\n",
            "8/8 [==============================] - 0s 3ms/step - loss: 0.0368 - accuracy: 1.0000\n",
            "Epoch 63/100\n",
            "8/8 [==============================] - 0s 4ms/step - loss: 0.0358 - accuracy: 1.0000\n",
            "Epoch 64/100\n",
            "8/8 [==============================] - 0s 3ms/step - loss: 0.0348 - accuracy: 1.0000\n",
            "Epoch 65/100\n",
            "8/8 [==============================] - 0s 3ms/step - loss: 0.0338 - accuracy: 1.0000\n",
            "Epoch 66/100\n",
            "8/8 [==============================] - 0s 4ms/step - loss: 0.0329 - accuracy: 1.0000\n",
            "Epoch 67/100\n",
            "8/8 [==============================] - 0s 3ms/step - loss: 0.0321 - accuracy: 1.0000\n",
            "Epoch 68/100\n",
            "8/8 [==============================] - 0s 3ms/step - loss: 0.0313 - accuracy: 1.0000\n",
            "Epoch 69/100\n",
            "8/8 [==============================] - 0s 5ms/step - loss: 0.0305 - accuracy: 1.0000\n",
            "Epoch 70/100\n",
            "8/8 [==============================] - 0s 3ms/step - loss: 0.0297 - accuracy: 1.0000\n",
            "Epoch 71/100\n",
            "8/8 [==============================] - 0s 3ms/step - loss: 0.0290 - accuracy: 1.0000\n",
            "Epoch 72/100\n",
            "8/8 [==============================] - 0s 6ms/step - loss: 0.0283 - accuracy: 1.0000\n",
            "Epoch 73/100\n",
            "8/8 [==============================] - 0s 3ms/step - loss: 0.0277 - accuracy: 1.0000\n",
            "Epoch 74/100\n",
            "8/8 [==============================] - 0s 7ms/step - loss: 0.0270 - accuracy: 1.0000\n",
            "Epoch 75/100\n",
            "8/8 [==============================] - 0s 3ms/step - loss: 0.0263 - accuracy: 1.0000\n",
            "Epoch 76/100\n",
            "8/8 [==============================] - 0s 2ms/step - loss: 0.0257 - accuracy: 1.0000\n",
            "Epoch 77/100\n",
            "8/8 [==============================] - 0s 2ms/step - loss: 0.0252 - accuracy: 1.0000\n",
            "Epoch 78/100\n",
            "8/8 [==============================] - 0s 3ms/step - loss: 0.0247 - accuracy: 1.0000\n",
            "Epoch 79/100\n",
            "8/8 [==============================] - 0s 2ms/step - loss: 0.0241 - accuracy: 1.0000\n",
            "Epoch 80/100\n",
            "8/8 [==============================] - 0s 2ms/step - loss: 0.0236 - accuracy: 1.0000\n",
            "Epoch 81/100\n",
            "8/8 [==============================] - 0s 2ms/step - loss: 0.0230 - accuracy: 1.0000\n",
            "Epoch 82/100\n",
            "8/8 [==============================] - 0s 3ms/step - loss: 0.0226 - accuracy: 1.0000\n",
            "Epoch 83/100\n",
            "8/8 [==============================] - 0s 2ms/step - loss: 0.0221 - accuracy: 1.0000\n",
            "Epoch 84/100\n",
            "8/8 [==============================] - 0s 2ms/step - loss: 0.0217 - accuracy: 1.0000\n",
            "Epoch 85/100\n",
            "8/8 [==============================] - 0s 2ms/step - loss: 0.0212 - accuracy: 1.0000\n",
            "Epoch 86/100\n",
            "8/8 [==============================] - 0s 2ms/step - loss: 0.0208 - accuracy: 1.0000\n",
            "Epoch 87/100\n",
            "8/8 [==============================] - 0s 2ms/step - loss: 0.0204 - accuracy: 1.0000\n",
            "Epoch 88/100\n",
            "8/8 [==============================] - 0s 2ms/step - loss: 0.0200 - accuracy: 1.0000\n",
            "Epoch 89/100\n",
            "8/8 [==============================] - 0s 2ms/step - loss: 0.0196 - accuracy: 1.0000\n",
            "Epoch 90/100\n",
            "8/8 [==============================] - 0s 2ms/step - loss: 0.0193 - accuracy: 1.0000\n",
            "Epoch 91/100\n",
            "8/8 [==============================] - 0s 3ms/step - loss: 0.0189 - accuracy: 1.0000\n",
            "Epoch 92/100\n",
            "8/8 [==============================] - 0s 2ms/step - loss: 0.0186 - accuracy: 1.0000\n",
            "Epoch 93/100\n",
            "8/8 [==============================] - 0s 2ms/step - loss: 0.0182 - accuracy: 1.0000\n",
            "Epoch 94/100\n",
            "8/8 [==============================] - 0s 2ms/step - loss: 0.0179 - accuracy: 1.0000\n",
            "Epoch 95/100\n",
            "8/8 [==============================] - 0s 2ms/step - loss: 0.0176 - accuracy: 1.0000\n",
            "Epoch 96/100\n",
            "8/8 [==============================] - 0s 3ms/step - loss: 0.0172 - accuracy: 1.0000\n",
            "Epoch 97/100\n",
            "8/8 [==============================] - 0s 2ms/step - loss: 0.0169 - accuracy: 1.0000\n",
            "Epoch 98/100\n",
            "8/8 [==============================] - 0s 2ms/step - loss: 0.0166 - accuracy: 1.0000\n",
            "Epoch 99/100\n",
            "8/8 [==============================] - 0s 2ms/step - loss: 0.0163 - accuracy: 1.0000\n",
            "Epoch 100/100\n",
            "8/8 [==============================] - 0s 3ms/step - loss: 0.0161 - accuracy: 1.0000\n"
          ]
        },
        {
          "output_type": "execute_result",
          "data": {
            "text/plain": [
              "<keras.src.callbacks.History at 0x79a9524e3cd0>"
            ]
          },
          "metadata": {},
          "execution_count": 14
        }
      ]
    },
    {
      "cell_type": "code",
      "source": [
        "!pip install tf2onnx"
      ],
      "metadata": {
        "colab": {
          "base_uri": "https://localhost:8080/"
        },
        "id": "YYDRSmJM4iZc",
        "outputId": "30b30ff1-caaf-41d2-d606-4ff17dc32092"
      },
      "execution_count": null,
      "outputs": [
        {
          "output_type": "stream",
          "name": "stdout",
          "text": [
            "Collecting tf2onnx\n",
            "  Downloading tf2onnx-1.16.1-py3-none-any.whl (455 kB)\n",
            "\u001b[2K     \u001b[90m━━━━━━━━━━━━━━━━━━━━━━━━━━━━━━━━━━━━━━━━\u001b[0m \u001b[32m455.8/455.8 kB\u001b[0m \u001b[31m5.4 MB/s\u001b[0m eta \u001b[36m0:00:00\u001b[0m\n",
            "\u001b[?25hRequirement already satisfied: numpy>=1.14.1 in /usr/local/lib/python3.10/dist-packages (from tf2onnx) (1.25.2)\n",
            "Requirement already satisfied: onnx>=1.4.1 in /usr/local/lib/python3.10/dist-packages (from tf2onnx) (1.16.0)\n",
            "Requirement already satisfied: requests in /usr/local/lib/python3.10/dist-packages (from tf2onnx) (2.31.0)\n",
            "Requirement already satisfied: six in /usr/local/lib/python3.10/dist-packages (from tf2onnx) (1.16.0)\n",
            "Requirement already satisfied: flatbuffers>=1.12 in /usr/local/lib/python3.10/dist-packages (from tf2onnx) (24.3.25)\n",
            "Requirement already satisfied: protobuf~=3.20 in /usr/local/lib/python3.10/dist-packages (from tf2onnx) (3.20.2)\n",
            "Requirement already satisfied: charset-normalizer<4,>=2 in /usr/local/lib/python3.10/dist-packages (from requests->tf2onnx) (3.3.2)\n",
            "Requirement already satisfied: idna<4,>=2.5 in /usr/local/lib/python3.10/dist-packages (from requests->tf2onnx) (3.7)\n",
            "Requirement already satisfied: urllib3<3,>=1.21.1 in /usr/local/lib/python3.10/dist-packages (from requests->tf2onnx) (2.0.7)\n",
            "Requirement already satisfied: certifi>=2017.4.17 in /usr/local/lib/python3.10/dist-packages (from requests->tf2onnx) (2024.2.2)\n",
            "Installing collected packages: tf2onnx\n",
            "Successfully installed tf2onnx-1.16.1\n"
          ]
        }
      ]
    },
    {
      "cell_type": "code",
      "source": [
        "import tf2onnx, onnx\n",
        "onnx_model, _ = tf2onnx.convert.from_keras(alan_model_no_tv, opset=13)\n",
        "onnx.save(onnx_model, \"drive/MyDrive/VR Model Dataset/Alan/alan_model_no_tv.onnx\")"
      ],
      "metadata": {
        "id": "CrXIOUr85SEO"
      },
      "execution_count": null,
      "outputs": []
    },
    {
      "cell_type": "code",
      "source": [
        "import tf2onnx, onnx\n",
        "onnx_model, _ = tf2onnx.convert.from_keras(shawn_model_no_tv, opset=13)\n",
        "onnx.save(onnx_model, \"drive/MyDrive/VR Model Dataset/Shawn/shawn_model_no_tv.onnx\")"
      ],
      "metadata": {
        "id": "FJua5mZh5VLQ"
      },
      "execution_count": null,
      "outputs": []
    },
    {
      "cell_type": "code",
      "source": [],
      "metadata": {
        "id": "x5dOABlCSWYC"
      },
      "execution_count": null,
      "outputs": []
    }
  ]
}